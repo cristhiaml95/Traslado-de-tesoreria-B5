{
 "cells": [
  {
   "cell_type": "code",
   "execution_count": null,
   "metadata": {},
   "outputs": [],
   "source": [
    "from openpyxl import Workbook\n",
    "from openpyxl import load_workbook\n",
    "\n",
    "wb = load_workbook(r\"C:\\Users\\crist\\OneDrive - UNIVERSIDAD NACIONAL DE INGENIERIA\\Venado\\Cris\\Traslado tesorería Bot\\Cuentas recaudadoras\\29.10.2022\\CUENTAS DE CAJA IVSA.xlsx\")\n",
    "ws = wb['CAJAS RECAUDADORAS']\n",
    "\n",
    "i = 34\n",
    "for i in [32, 33, 34, 35, 61]:\n",
    "    x = ws[f'D{i}'].value\n",
    "    print(type(x))\n",
    "    y = type(x)\n",
    "    print(y)\n",
    "    x = str(x)\n",
    "\n",
    "    print(str(i))\n",
    "\n",
    "    print(x)\n",
    "    print(len(x))\n",
    "    \n",
    "    \n",
    "#print(type(x.value))"
   ]
  },
  {
   "cell_type": "code",
   "execution_count": null,
   "metadata": {},
   "outputs": [],
   "source": [
    "from openpyxl import Workbook\n",
    "from openpyxl import load_workbook\n",
    "import json\n",
    "\n",
    "wb = load_workbook(r'C:\\Users\\crist\\OneDrive - UNIVERSIDAD NACIONAL DE INGENIERIA\\Venado\\Cris\\Traslado tesorería Bot\\config.xlsx')\n",
    "ws = wb['config']\n",
    "ws1 = wb['sapLogin']\n",
    "\n",
    "paths = {'accountPath': ws['B1'].value,\n",
    "        'SAPPath': ws['B2'].value,\n",
    "        'migraPath': ws['B3'].value}\n",
    "\n",
    "accountPath = str(paths['accountPath'])\n",
    "SAPPath = str(paths['SAPPath'])\n",
    "migraPath = str(paths['migraPath'])\n",
    "\n",
    "\n",
    "#paths= str(paths)\n",
    "\n",
    "login = {'user': ws1['B1'].value,\n",
    "            'psw': ws1['B2'].value}\n",
    "\n",
    "user = str(login['user'])\n",
    "psw = str(login['psw'])\n",
    "\n",
    "#login= str(login)\n",
    "\n",
    "print(type(paths['SAPPath']), \"\\n\", type(paths['accountPath']), \"\\n\", type(paths['migraPath']))"
   ]
  },
  {
   "cell_type": "code",
   "execution_count": null,
   "metadata": {},
   "outputs": [],
   "source": [
    "from openpyxl import Workbook\n",
    "from openpyxl import load_workbook\n",
    "\n",
    "wb = load_workbook(r\"C:\\Users\\crist\\OneDrive - UNIVERSIDAD NACIONAL DE INGENIERIA\\Venado\\Cris\\Traslado tesorería Bot\\Cuentas recaudadoras\\29.10.2022\\CUENTAS DE CAJA IVSA.xlsx\")\n",
    "ws = wb['CAJAS RECAUDADORAS']\n",
    "ws.unmerge_cells('D38:D40')\n",
    "\n",
    "#ws['D33'] = 'holi'\n",
    "ws['D39'] = 12345\n",
    "\n",
    "wb.save(r\"C:\\Users\\crist\\OneDrive - UNIVERSIDAD NACIONAL DE INGENIERIA\\Venado\\Cris\\Traslado tesorería Bot\\Cuentas recaudadoras\\29.10.2022\\CUENTAS DE CAJA IVSA.xlsx\")\n"
   ]
  },
  {
   "cell_type": "code",
   "execution_count": null,
   "metadata": {},
   "outputs": [],
   "source": [
    "class chacon():\n",
    "    def __init__(self):\n",
    "        self.a = 40\n",
    "\n",
    "class chacon1(): \n",
    "    a = 40\n",
    "\n",
    "e = chacon().a\n",
    "h = chacon1().a \n",
    "print(h)\n",
    "print(e)"
   ]
  },
  {
   "cell_type": "code",
   "execution_count": 13,
   "metadata": {},
   "outputs": [
    {
     "name": "stdout",
     "output_type": "stream",
     "text": [
      "(19, 30)\n",
      "<class 'tuple'>\n",
      "30\n",
      "<class 'int'>\n",
      "AG.ACHUMANI\n",
      "<class 'str'>\n"
     ]
    }
   ],
   "source": [
    "import re\n",
    "x = 'CAJA GENERAL M/N - RECAUDADORA AG ACHUMANI'\n",
    "y = re.search('RECAUDADORA', x).span()\n",
    "print(y)\n",
    "print(type(y))\n",
    "print(y[1])\n",
    "print(type(y[1]))\n",
    "y = y[1] + 1\n",
    "x = x[y:]\n",
    "x = x.strip()\n",
    "x = x.replace(' ', '.')\n",
    "print(x)\n",
    "print(type(x))"
   ]
  },
  {
   "cell_type": "code",
   "execution_count": 12,
   "metadata": {},
   "outputs": [
    {
     "name": "stdout",
     "output_type": "stream",
     "text": [
      "hola\n",
      "hola\n",
      "<class 'str'>\n"
     ]
    }
   ],
   "source": [
    "x = 'hola'\n",
    "print(str(x))\n",
    "print(x)\n",
    "print(type(x))"
   ]
  },
  {
   "cell_type": "code",
   "execution_count": 1,
   "metadata": {},
   "outputs": [
    {
     "name": "stdout",
     "output_type": "stream",
     "text": [
      "c:\\Users\\crist\\OneDrive - UNIVERSIDAD NACIONAL DE INGENIERIA\\Venado\\Cris\\Traslado de tesoreria B5\\Bot2\\src\n",
      "c:\\Users\\crist\\OneDrive - UNIVERSIDAD NACIONAL DE INGENIERIA\\Venado\\Cris\\Traslado de tesoreria B5\\Bot2\\src\n",
      "c:\\Users\\crist\\OneDrive - UNIVERSIDAD NACIONAL DE INGENIERIA\\Venado\\Cris\\Traslado de tesoreria B5\\Bot2\n",
      "c:\\Users\\crist\\OneDrive - UNIVERSIDAD NACIONAL DE INGENIERIA\\Venado\\Cris\\Traslado de tesoreria B5\n",
      "c:\\Users\\crist\\OneDrive - UNIVERSIDAD NACIONAL DE INGENIERIA\\Venado\\Cris\n"
     ]
    }
   ],
   "source": [
    "from usefulFunctions import *\n",
    "\n",
    "x = currentPathFolder\n",
    "y = currentPathFolder\n",
    "z = currentPathParentFolder\n",
    "z1 = currentPathGrandpaFolder\n",
    "z2 = currentPathGrandpaFolderParent\n",
    "print(x)\n",
    "print(y)\n",
    "print(z)\n",
    "print(z1)\n",
    "print(z2)"
   ]
  },
  {
   "cell_type": "code",
   "execution_count": 2,
   "metadata": {},
   "outputs": [
    {
     "name": "stdout",
     "output_type": "stream",
     "text": [
      "om\n"
     ]
    }
   ],
   "source": [
    "l =  'holacomoestas'\n",
    "l = l[5:7]\n",
    "print(l)\n"
   ]
  },
  {
   "cell_type": "code",
   "execution_count": 1,
   "metadata": {},
   "outputs": [
    {
     "name": "stdout",
     "output_type": "stream",
     "text": [
      "True\n"
     ]
    }
   ],
   "source": [
    "l = 'holacomoestas'\n",
    "x = 'hola' in l\n",
    "print(x)"
   ]
  },
  {
   "cell_type": "code",
   "execution_count": null,
   "metadata": {},
   "outputs": [],
   "source": []
  }
 ],
 "metadata": {
  "kernelspec": {
   "display_name": "Python 3.10.8 64-bit",
   "language": "python",
   "name": "python3"
  },
  "language_info": {
   "codemirror_mode": {
    "name": "ipython",
    "version": 3
   },
   "file_extension": ".py",
   "mimetype": "text/x-python",
   "name": "python",
   "nbconvert_exporter": "python",
   "pygments_lexer": "ipython3",
   "version": "3.10.8"
  },
  "orig_nbformat": 4,
  "vscode": {
   "interpreter": {
    "hash": "43973268aa23c7cf4b4cafe0e819fac9b2412fcc991a21988492c3271a4e3f9b"
   }
  }
 },
 "nbformat": 4,
 "nbformat_minor": 2
}
