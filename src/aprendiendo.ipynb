{
 "cells": [
  {
   "cell_type": "code",
   "execution_count": null,
   "metadata": {},
   "outputs": [],
   "source": [
    "def fecha_a_dia(fecha):\n",
    "    import datetime\n",
    "    dias_de_la_semana = [\"Lunes\",\"Martes\",\"Miercoles\",\"Jueves\",\"Viernes\",\"Sabado\",\"Domingo\"]\n",
    "    fecha_split = fecha.split(\".\")\n",
    "    fecha_formateada = datetime.date(int(fecha_split[2]), int(fecha_split[1]), int(fecha_split[0]))\n",
    "    dia = dias_de_la_semana[fecha_formateada.weekday()]\n",
    "    return dia\n",
    "\n",
    "print(fecha_a_dia('18.08.2022'))"
   ]
  },
  {
   "cell_type": "code",
   "execution_count": null,
   "metadata": {},
   "outputs": [],
   "source": [
    "import pandas as pd\n",
    "\n",
    "l = [1,2,3,4,5,6,7,8,9,10]\n",
    "l2 = ['a','b','c','d','e','f','g','h','i','j']\n",
    "l3 = []\n",
    "l3.append(l)\n",
    "l3.append(l2)\n",
    "\n",
    "df = pd.DataFrame(l3, columns = ['a','b','c','d','e','f','g','h','i','j'])\n",
    "print(df)"
   ]
  },
  {
   "cell_type": "code",
   "execution_count": null,
   "metadata": {},
   "outputs": [],
   "source": [
    "from usefulObjets import sapInterfaceJob\n",
    "\n",
    "preApprovedParametersList = []\n",
    "parametersList2 = []\n",
    "\n",
    "l = []\n",
    "l1 = ['23.12.2022', '22.12.2022', '21.12.2022', '20.12.2022', '19.12.2022', '18.12.2022', '17.12.2022', '16.12.2022', '15.12.2022', '14.12.2022', '13.12.2022', '12.12.2022', '11.12.2022', '10.12.2022', '09.12.2022', '08.12.2022', '07.12.2022', '06.12.2022', '05.12.2022', '04.12.2022', '03.12.2022', '02.12.2022', '01.12.2022']\n",
    "l2 = ['1', '2', '3', '4-', '5', '6-', '7', '8', '9-', '10', '11', '12', '13', '14-', '15', '16', '17', '18', '19', '20', '21-', '22', '23']\n",
    "parametersList2.append(l)\n",
    "parametersList2.append(l)\n",
    "parametersList2.append(l1)\n",
    "parametersList2.append(l)\n",
    "parametersList2.append(l2)\n",
    "\n",
    "l3 = ['23.12.2022', '15.12.2022', '08.12.2022', '01.12.2022']\n",
    "l4 = ['1-', '9-', '17-', '23-']\n",
    "l5 = ['11111111111 BELZA GUTIERREZ CONDORI', '11111111111 JOSE LUIS ALEJANDRO RODRIGUEZ', '11111111111 NELVI JUANITA ROMERO', '11111111111 holis']\n",
    "preApprovedParametersList.append(l)\n",
    "preApprovedParametersList.append(l)\n",
    "preApprovedParametersList.append(l3)\n",
    "preApprovedParametersList.append(l)\n",
    "preApprovedParametersList.append(l4)\n",
    "preApprovedParametersList.append(l5)\n",
    "\n",
    "x = sapInterfaceJob()\n",
    "x.testingAccounts(preApprovedParametersList, parametersList2)\n",
    "\n"
   ]
  },
  {
   "cell_type": "code",
   "execution_count": 3,
   "metadata": {},
   "outputs": [
    {
     "name": "stdout",
     "output_type": "stream",
     "text": [
      "23\n"
     ]
    }
   ],
   "source": [
    "l = ['z', 'z', 'z', 'z', 'z', 'z', 'z', 'z', 'z', 'z', 'z', 'z', 'z', 'z', 'z', 'z', 'z', 'z', 'z', 'z', 'z', 'z', 'z']\n",
    "print(len(l))"
   ]
  },
  {
   "cell_type": "code",
   "execution_count": 10,
   "metadata": {},
   "outputs": [
    {
     "name": "stdout",
     "output_type": "stream",
     "text": [
      "PARADA/ROJASJUANGILBERTO-\n",
      "PARADA ROJAS JUAN GILBERTO\n",
      "['/', '-']\n"
     ]
    }
   ],
   "source": [
    "import re\n",
    "\n",
    "\n",
    "l = '9811-237828 PARADA /ROJAS JUAN GILBERTO-'\n",
    "\n",
    "l = l[12:]\n",
    "l2 = l.replace(' ', '')\n",
    "x = re.findall(r'[\\W]', l2)\n",
    "\n",
    "for i in x:\n",
    "    l = l.replace(i, '')\n",
    "print(l2)\n",
    "print(l)\n",
    "print(x)\n"
   ]
  },
  {
   "cell_type": "code",
   "execution_count": 13,
   "metadata": {},
   "outputs": [
    {
     "name": "stdout",
     "output_type": "stream",
     "text": [
      "GENARO VALVERDE RIBERA\n",
      "['04597352SC ']\n"
     ]
    }
   ],
   "source": [
    "import re\n",
    "\n",
    "l = '04597352SC GENARO VALVERDE RIBERA'\n",
    "x = re.findall(r'\\d+-*\\d+\\w*\\s', l)\n",
    "\n",
    "for i in x:\n",
    "    l = l.replace(i, '')\n",
    "print(l)\n",
    "print(x)"
   ]
  },
  {
   "cell_type": "code",
   "execution_count": 1,
   "metadata": {},
   "outputs": [
    {
     "name": "stdout",
     "output_type": "stream",
     "text": [
      " habla, bro\n"
     ]
    }
   ],
   "source": [
    "l = ' habla, bro'\n",
    "l = l.replace('x', '')\n",
    "print(l)"
   ]
  },
  {
   "cell_type": "code",
   "execution_count": 25,
   "metadata": {},
   "outputs": [
    {
     "name": "stdout",
     "output_type": "stream",
     "text": [
      "GA!\n"
     ]
    },
    {
     "ename": "NameError",
     "evalue": "name 'i' is not defined",
     "output_type": "error",
     "traceback": [
      "\u001b[1;31m---------------------------------------------------------------------------\u001b[0m",
      "\u001b[1;31mNameError\u001b[0m                                 Traceback (most recent call last)",
      "Cell \u001b[1;32mIn [25], line 10\u001b[0m\n\u001b[0;32m      7\u001b[0m \u001b[39mif\u001b[39;00m x[\u001b[39m0\u001b[39m] \u001b[39mand\u001b[39;00m x[\u001b[39m1\u001b[39m] \u001b[39mand\u001b[39;00m x[\u001b[39m2\u001b[39m] \u001b[39min\u001b[39;00m l:\n\u001b[0;32m      8\u001b[0m     \u001b[39mprint\u001b[39m(\u001b[39m'\u001b[39m\u001b[39mGA!\u001b[39m\u001b[39m'\u001b[39m)\n\u001b[1;32m---> 10\u001b[0m \u001b[39mif\u001b[39;00m [i \u001b[39min\u001b[39;00m x] \u001b[39min\u001b[39;00m l:\n\u001b[0;32m     11\u001b[0m     \u001b[39mprint\u001b[39m(\u001b[39m'\u001b[39m\u001b[39mGA!\u001b[39m\u001b[39m'\u001b[39m)\n\u001b[0;32m     12\u001b[0m \u001b[39mprint\u001b[39m(x)\n",
      "\u001b[1;31mNameError\u001b[0m: name 'i' is not defined"
     ]
    }
   ],
   "source": [
    "import re\n",
    "\n",
    "l = 'PARADA ROJAS JUAN GILBERTO xd'\n",
    "x = re.split(r' ', l)\n",
    "x = x[:3]\n",
    "#x[2]  = 'xdd'\n",
    "if x[0] and x[1] and x[2] in l:\n",
    "    print('GA!')\n",
    "\n",
    "if [i in x] in l:\n",
    "    print('GA!')\n",
    "print(x)"
   ]
  },
  {
   "cell_type": "code",
   "execution_count": 18,
   "metadata": {},
   "outputs": [
    {
     "name": "stdout",
     "output_type": "stream",
     "text": [
      "holabro\n"
     ]
    }
   ],
   "source": [
    "l = ' hola '\n",
    "l = l.strip()\n",
    "l = l + 'bro'\n",
    "print(l)\n",
    "\n"
   ]
  },
  {
   "cell_type": "code",
   "execution_count": 27,
   "metadata": {},
   "outputs": [
    {
     "name": "stdout",
     "output_type": "stream",
     "text": [
      "a\n",
      "None\n",
      "b\n",
      " \n",
      "f\n",
      "None\n",
      "None\n",
      "g\n",
      "None\n",
      "f\n",
      "None\n",
      "f\n",
      "f\n",
      "None\n",
      "None\n",
      "None\n",
      "None\n",
      "None\n",
      "None\n",
      "None\n",
      "None\n",
      "None\n",
      "None\n",
      "None\n",
      "None\n",
      "r\n",
      "None\n",
      "None\n",
      "None\n",
      "y\n"
     ]
    }
   ],
   "source": [
    "from openpyxl import load_workbook\n",
    "\n",
    "wb = load_workbook(r\"C:\\Users\\crist\\Desktop\\Libro1.xlsx\")\n",
    " \n",
    "sheet = wb.active\n",
    " \n",
    "\n",
    "for cell in sheet['A']:\n",
    "    print(cell.value)"
   ]
  },
  {
   "cell_type": "code",
   "execution_count": 28,
   "metadata": {},
   "outputs": [
    {
     "name": "stdout",
     "output_type": "stream",
     "text": [
      "0 a\n",
      "1 b\n",
      "2 c\n",
      "3 d\n",
      "4 e\n",
      "5 f\n",
      "6 g\n",
      "7 h\n",
      "8 i\n",
      "9 j\n"
     ]
    }
   ],
   "source": [
    "l = ['a', 'b', 'c', 'd', 'e', 'f', 'g', 'h', 'i', 'j']\n",
    "for i, j in enumerate(l):\n",
    "    print(i, j)"
   ]
  },
  {
   "cell_type": "code",
   "execution_count": 34,
   "metadata": {},
   "outputs": [
    {
     "name": "stdout",
     "output_type": "stream",
     "text": [
      "30.12.2022\n",
      "<class 'str'>\n"
     ]
    }
   ],
   "source": [
    "import os\n",
    "from usefulFunctions import *\n",
    "print(today())\n",
    "print(type(today()))\n",
    "\n"
   ]
  },
  {
   "cell_type": "code",
   "execution_count": null,
   "metadata": {},
   "outputs": [],
   "source": []
  }
 ],
 "metadata": {
  "kernelspec": {
   "display_name": "Python 3.10.8 64-bit",
   "language": "python",
   "name": "python3"
  },
  "language_info": {
   "codemirror_mode": {
    "name": "ipython",
    "version": 3
   },
   "file_extension": ".py",
   "mimetype": "text/x-python",
   "name": "python",
   "nbconvert_exporter": "python",
   "pygments_lexer": "ipython3",
   "version": "3.10.8"
  },
  "orig_nbformat": 4,
  "vscode": {
   "interpreter": {
    "hash": "43973268aa23c7cf4b4cafe0e819fac9b2412fcc991a21988492c3271a4e3f9b"
   }
  }
 },
 "nbformat": 4,
 "nbformat_minor": 2
}
