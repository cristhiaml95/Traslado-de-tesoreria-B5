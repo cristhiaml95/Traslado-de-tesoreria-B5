{
 "cells": [
  {
   "cell_type": "code",
   "execution_count": null,
   "metadata": {},
   "outputs": [],
   "source": [
    "def fecha_a_dia(fecha):\n",
    "    import datetime\n",
    "    dias_de_la_semana = [\"Lunes\",\"Martes\",\"Miercoles\",\"Jueves\",\"Viernes\",\"Sabado\",\"Domingo\"]\n",
    "    fecha_split = fecha.split(\".\")\n",
    "    fecha_formateada = datetime.date(int(fecha_split[2]), int(fecha_split[1]), int(fecha_split[0]))\n",
    "    dia = dias_de_la_semana[fecha_formateada.weekday()]\n",
    "    return dia\n",
    "\n",
    "print(fecha_a_dia('18.08.2022'))"
   ]
  },
  {
   "cell_type": "code",
   "execution_count": null,
   "metadata": {},
   "outputs": [],
   "source": [
    "import pandas as pd\n",
    "\n",
    "l = [1,2,3,4,5,6,7,8,9,10]\n",
    "l2 = ['a','b','c','d','e','f','g','h','i','j']\n",
    "l3 = []\n",
    "l3.append(l)\n",
    "l3.append(l2)\n",
    "\n",
    "df = pd.DataFrame(l3, columns = ['a','b','c','d','e','f','g','h','i','j'])\n",
    "print(df)"
   ]
  },
  {
   "cell_type": "code",
   "execution_count": null,
   "metadata": {},
   "outputs": [],
   "source": [
    "from usefulObjets import sapInterfaceJob\n",
    "\n",
    "preApprovedParametersList = []\n",
    "parametersList2 = []\n",
    "\n",
    "l = []\n",
    "l1 = ['23.12.2022', '22.12.2022', '21.12.2022', '20.12.2022', '19.12.2022', '18.12.2022', '17.12.2022', '16.12.2022', '15.12.2022', '14.12.2022', '13.12.2022', '12.12.2022', '11.12.2022', '10.12.2022', '09.12.2022', '08.12.2022', '07.12.2022', '06.12.2022', '05.12.2022', '04.12.2022', '03.12.2022', '02.12.2022', '01.12.2022']\n",
    "l2 = ['1', '2', '3', '4-', '5', '6-', '7', '8', '9-', '10', '11', '12', '13', '14-', '15', '16', '17', '18', '19', '20', '21-', '22', '23']\n",
    "parametersList2.append(l)\n",
    "parametersList2.append(l)\n",
    "parametersList2.append(l1)\n",
    "parametersList2.append(l)\n",
    "parametersList2.append(l2)\n",
    "\n",
    "l3 = ['23.12.2022', '15.12.2022', '08.12.2022', '01.12.2022']\n",
    "l4 = ['1-', '9-', '17-', '23-']\n",
    "l5 = ['11111111111 BELZA GUTIERREZ CONDORI', '11111111111 JOSE LUIS ALEJANDRO RODRIGUEZ', '11111111111 NELVI JUANITA ROMERO', '11111111111 holis']\n",
    "preApprovedParametersList.append(l)\n",
    "preApprovedParametersList.append(l)\n",
    "preApprovedParametersList.append(l3)\n",
    "preApprovedParametersList.append(l)\n",
    "preApprovedParametersList.append(l4)\n",
    "preApprovedParametersList.append(l5)\n",
    "\n",
    "x = sapInterfaceJob()\n",
    "x.testingAccounts(preApprovedParametersList, parametersList2)\n",
    "\n"
   ]
  },
  {
   "cell_type": "code",
   "execution_count": null,
   "metadata": {},
   "outputs": [],
   "source": [
    "import shutil\n",
    "\n",
    "shutil.copy(r\"C:\\Users\\crist\\OneDrive - UNIVERSIDAD NACIONAL DE INGENIERIA\\Venado\\Cris\\Bot5\\Cuentas recaudadoras\\CUENTAS DE CAJA IVSA.xlsx\", r\"C:\\Users\\crist\\Desktop\\Hola.xlsx\")"
   ]
  },
  {
   "cell_type": "code",
   "execution_count": null,
   "metadata": {},
   "outputs": [],
   "source": [
    "import tkinter as tk\n",
    "\n",
    "wd = tk.Tk()\n",
    "wd.title(\"Hola\")\n",
    "wd.geometry(\"300x300\")\n",
    "op = tk.IntVar()\n",
    "op1 = tk.Radiobutton(wd, text = \"Heble\", variable = op, value = 1, command=lambda: print('Hola'))\n",
    "op1.pack()\n",
    "wd.mainloop()"
   ]
  },
  {
   "cell_type": "code",
   "execution_count": 4,
   "metadata": {},
   "outputs": [
    {
     "name": "stdout",
     "output_type": "stream",
     "text": [
      "1920 1080\n",
      "<class 'int'>\n",
      "<class 'int'>\n"
     ]
    }
   ],
   "source": [
    "import pyautogui as pg\n",
    "\n",
    "a, b = pg.size()\n",
    "\n",
    "print(a,b)\n",
    "print(type(a))\n",
    "print(type(b))\n"
   ]
  },
  {
   "cell_type": "code",
   "execution_count": 2,
   "metadata": {},
   "outputs": [
    {
     "name": "stdout",
     "output_type": "stream",
     "text": [
      "Hola2\n",
      "Hola\n"
     ]
    }
   ],
   "source": [
    "l = 2 \n",
    "match l:\n",
    "    case 1:\n",
    "        print(\"Hola1\")\n",
    "    case 2:\n",
    "        print(\"Hola2\")\n",
    "\n",
    "print('Hola')"
   ]
  },
  {
   "cell_type": "code",
   "execution_count": 2,
   "metadata": {},
   "outputs": [
    {
     "name": "stdout",
     "output_type": "stream",
     "text": [
      "c:\\Users\\crist\\OneDrive - UNIVERSIDAD NACIONAL DE INGENIERIA\\Venado\\Cris\\Bot5\\Cuentas recaudadoras\\CUENTAS DE CAJA IVSA.xlsx\n"
     ]
    }
   ],
   "source": [
    "import os \n",
    "import usefulFunctions\n",
    "\n",
    "x = os.path.join(usefulFunctions.currentPathParentFolder, 'Cuentas recaudadoras', 'CUENTAS DE CAJA IVSA.xlsx')\n",
    "print(x)"
   ]
  },
  {
   "cell_type": "code",
   "execution_count": 5,
   "metadata": {},
   "outputs": [
    {
     "name": "stdout",
     "output_type": "stream",
     "text": [
      "Help on function wm_iconphoto in module tkinter:\n",
      "\n",
      "wm_iconphoto(self, default=False, *args)\n",
      "    Sets the titlebar icon for this window based on the named photo\n",
      "    images passed through args. If default is True, this is applied to\n",
      "    all future created toplevels as well.\n",
      "    \n",
      "    The data in the images is taken as a snapshot at the time of\n",
      "    invocation. If the images are later changed, this is not reflected\n",
      "    to the titlebar icons. Multiple images are accepted to allow\n",
      "    different images sizes to be provided. The window manager may scale\n",
      "    provided icons to an appropriate size.\n",
      "    \n",
      "    On Windows, the images are packed into a Windows icon structure.\n",
      "    This will override an icon specified to wm_iconbitmap, and vice\n",
      "    versa.\n",
      "    \n",
      "    On X, the images are arranged into the _NET_WM_ICON X property,\n",
      "    which most modern window managers support. An icon specified by\n",
      "    wm_iconbitmap may exist simultaneously.\n",
      "    \n",
      "    On Macintosh, this currently does nothing.\n",
      "\n"
     ]
    }
   ],
   "source": [
    "import tkinter as tk\n",
    "help(tk.Tk.iconphoto)"
   ]
  },
  {
   "cell_type": "code",
   "execution_count": null,
   "metadata": {},
   "outputs": [],
   "source": []
  }
 ],
 "metadata": {
  "kernelspec": {
   "display_name": "Python 3.10.8 64-bit",
   "language": "python",
   "name": "python3"
  },
  "language_info": {
   "codemirror_mode": {
    "name": "ipython",
    "version": 3
   },
   "file_extension": ".py",
   "mimetype": "text/x-python",
   "name": "python",
   "nbconvert_exporter": "python",
   "pygments_lexer": "ipython3",
   "version": "3.10.8"
  },
  "orig_nbformat": 4,
  "vscode": {
   "interpreter": {
    "hash": "43973268aa23c7cf4b4cafe0e819fac9b2412fcc991a21988492c3271a4e3f9b"
   }
  }
 },
 "nbformat": 4,
 "nbformat_minor": 2
}
