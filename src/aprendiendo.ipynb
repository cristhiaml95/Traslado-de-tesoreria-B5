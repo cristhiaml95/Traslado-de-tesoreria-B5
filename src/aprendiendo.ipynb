{
 "cells": [
  {
   "cell_type": "code",
   "execution_count": null,
   "metadata": {},
   "outputs": [],
   "source": [
    "def fecha_a_dia(fecha):\n",
    "    import datetime\n",
    "    dias_de_la_semana = [\"Lunes\",\"Martes\",\"Miercoles\",\"Jueves\",\"Viernes\",\"Sabado\",\"Domingo\"]\n",
    "    fecha_split = fecha.split(\".\")\n",
    "    fecha_formateada = datetime.date(int(fecha_split[2]), int(fecha_split[1]), int(fecha_split[0]))\n",
    "    dia = dias_de_la_semana[fecha_formateada.weekday()]\n",
    "    return dia\n",
    "\n",
    "print(fecha_a_dia('18.08.2022'))"
   ]
  },
  {
   "cell_type": "code",
   "execution_count": null,
   "metadata": {},
   "outputs": [],
   "source": [
    "import pandas as pd\n",
    "\n",
    "l = [1,2,3,4,5,6,7,8,9,10]\n",
    "l2 = ['a','b','c','d','e','f','g','h','i','j']\n",
    "l3 = []\n",
    "l3.append(l)\n",
    "l3.append(l2)\n",
    "\n",
    "df = pd.DataFrame(l3, columns = ['a','b','c','d','e','f','g','h','i','j'])\n",
    "print(df)"
   ]
  },
  {
   "cell_type": "code",
   "execution_count": null,
   "metadata": {},
   "outputs": [],
   "source": [
    "from usefulObjets import sapInterfaceJob\n",
    "\n",
    "preApprovedParametersList = []\n",
    "parametersList2 = []\n",
    "\n",
    "l = []\n",
    "l1 = ['23.12.2022', '22.12.2022', '21.12.2022', '20.12.2022', '19.12.2022', '18.12.2022', '17.12.2022', '16.12.2022', '15.12.2022', '14.12.2022', '13.12.2022', '12.12.2022', '11.12.2022', '10.12.2022', '09.12.2022', '08.12.2022', '07.12.2022', '06.12.2022', '05.12.2022', '04.12.2022', '03.12.2022', '02.12.2022', '01.12.2022']\n",
    "l2 = ['1', '2', '3', '4-', '5', '6-', '7', '8', '9-', '10', '11', '12', '13', '14-', '15', '16', '17', '18', '19', '20', '21-', '22', '23']\n",
    "parametersList2.append(l)\n",
    "parametersList2.append(l)\n",
    "parametersList2.append(l1)\n",
    "parametersList2.append(l)\n",
    "parametersList2.append(l2)\n",
    "\n",
    "l3 = ['23.12.2022', '15.12.2022', '08.12.2022', '01.12.2022']\n",
    "l4 = ['1-', '9-', '17-', '23-']\n",
    "l5 = ['11111111111 BELZA GUTIERREZ CONDORI', '11111111111 JOSE LUIS ALEJANDRO RODRIGUEZ', '11111111111 NELVI JUANITA ROMERO', '11111111111 holis']\n",
    "preApprovedParametersList.append(l)\n",
    "preApprovedParametersList.append(l)\n",
    "preApprovedParametersList.append(l3)\n",
    "preApprovedParametersList.append(l)\n",
    "preApprovedParametersList.append(l4)\n",
    "preApprovedParametersList.append(l5)\n",
    "\n",
    "x = sapInterfaceJob()\n",
    "x.testingAccounts(preApprovedParametersList, parametersList2)\n",
    "\n"
   ]
  },
  {
   "cell_type": "code",
   "execution_count": 1,
   "metadata": {},
   "outputs": [
    {
     "name": "stdout",
     "output_type": "stream",
     "text": [
      "c:\\Users\\crist\\OneDrive - UNIVERSIDAD NACIONAL DE INGENIERIA\\Venado\\Cris\\Bot5\n",
      "El archivo MIGRACIONES SGV DICIEMBRE 2022 28.12.2022.xlsx no existe en el directorio.\n",
      "La hoja AG. ACHUMANI no existe en el archivo MIGRACIONES SGV DICIEMBRE 2022 28.12.2022.xlsx.\n"
     ]
    },
    {
     "ename": "UnboundLocalError",
     "evalue": "local variable 'wb' referenced before assignment",
     "output_type": "error",
     "traceback": [
      "\u001b[1;31m---------------------------------------------------------------------------\u001b[0m",
      "\u001b[1;31mUnboundLocalError\u001b[0m                         Traceback (most recent call last)",
      "Cell \u001b[1;32mIn[1], line 3\u001b[0m\n\u001b[0;32m      1\u001b[0m \u001b[39mfrom\u001b[39;00m \u001b[39musefulFunctions\u001b[39;00m \u001b[39mimport\u001b[39;00m ndocTOxlsx, currentPathParentFolder\n\u001b[0;32m      2\u001b[0m \u001b[39mprint\u001b[39m(currentPathParentFolder)\n\u001b[1;32m----> 3\u001b[0m ndocTOxlsx(\u001b[39m'\u001b[39;49m\u001b[39mCCAJ-LP08/298/22\u001b[39;49m\u001b[39m'\u001b[39;49m, \u001b[39m'\u001b[39;49m\u001b[39m13161561565\u001b[39;49m\u001b[39m'\u001b[39;49m, \u001b[39m'\u001b[39;49m\u001b[39mAG. ACHUMANI\u001b[39;49m\u001b[39m'\u001b[39;49m, \u001b[39m'\u001b[39;49m\u001b[39mMIGRACIONES SGV DICIEMBRE 2022 28.12.2022\u001b[39;49m\u001b[39m'\u001b[39;49m, \u001b[39mr\u001b[39;49m\u001b[39m'\u001b[39;49m\u001b[39mC:\u001b[39;49m\u001b[39m\\\u001b[39;49m\u001b[39mUsers\u001b[39;49m\u001b[39m\\\u001b[39;49m\u001b[39mcrist\u001b[39;49m\u001b[39m\\\u001b[39;49m\u001b[39mOneDrive - UNIVERSIDAD NACIONAL DE INGENIERIA\u001b[39;49m\u001b[39m\\\u001b[39;49m\u001b[39mVenado\u001b[39;49m\u001b[39m\\\u001b[39;49m\u001b[39mCris\u001b[39;49m\u001b[39m\\\u001b[39;49m\u001b[39mBot5\u001b[39;49m\u001b[39m\\\u001b[39;49m\u001b[39mCuentas recaudadoras\u001b[39;49m\u001b[39m\\\u001b[39;49m\u001b[39mlogs.txt\u001b[39;49m\u001b[39m'\u001b[39;49m)\n",
      "File \u001b[1;32mc:\\Users\\crist\\OneDrive - UNIVERSIDAD NACIONAL DE INGENIERIA\\Venado\\Cris\\Bot5\\src\\usefulFunctions.py:170\u001b[0m, in \u001b[0;36mndocTOxlsx\u001b[1;34m(asignacion, ndoc, rec, xlsx, logPath)\u001b[0m\n\u001b[0;32m    168\u001b[0m \u001b[39mexcept\u001b[39;00m:\n\u001b[0;32m    169\u001b[0m     writeLog(\u001b[39m'\u001b[39m\u001b[39m\\n\u001b[39;00m\u001b[39m'\u001b[39m, \u001b[39mf\u001b[39m\u001b[39m'\u001b[39m\u001b[39mLa hoja \u001b[39m\u001b[39m{\u001b[39;00mrec\u001b[39m}\u001b[39;00m\u001b[39m no existe en el archivo \u001b[39m\u001b[39m{\u001b[39;00mxlsx\u001b[39m}\u001b[39;00m\u001b[39m.\u001b[39m\u001b[39m'\u001b[39m, logPath)\n\u001b[1;32m--> 170\u001b[0m wb\u001b[39m.\u001b[39msave(xlsxPath)\n\u001b[0;32m    171\u001b[0m wb\u001b[39m.\u001b[39mclose()\n",
      "\u001b[1;31mUnboundLocalError\u001b[0m: local variable 'wb' referenced before assignment"
     ]
    }
   ],
   "source": [
    "from usefulFunctions import ndocTOxlsx, currentPathParentFolder\n",
    "print(currentPathParentFolder)\n",
    "ndocTOxlsx('CCAJ-LP08/298/22', '13161561565', 'AG. ACHUMANI', 'MIGRACIONES SGV DICIEMBRE 2022 28.12.2022', r'C:\\Users\\crist\\OneDrive - UNIVERSIDAD NACIONAL DE INGENIERIA\\Venado\\Cris\\Bot5\\Cuentas recaudadoras\\logs.txt')"
   ]
  },
  {
   "cell_type": "code",
   "execution_count": null,
   "metadata": {},
   "outputs": [],
   "source": []
  }
 ],
 "metadata": {
  "kernelspec": {
   "display_name": "Python 3.10.8 64-bit",
   "language": "python",
   "name": "python3"
  },
  "language_info": {
   "codemirror_mode": {
    "name": "ipython",
    "version": 3
   },
   "file_extension": ".py",
   "mimetype": "text/x-python",
   "name": "python",
   "nbconvert_exporter": "python",
   "pygments_lexer": "ipython3",
   "version": "3.10.8 (tags/v3.10.8:aaaf517, Oct 11 2022, 16:50:30) [MSC v.1933 64 bit (AMD64)]"
  },
  "orig_nbformat": 4,
  "vscode": {
   "interpreter": {
    "hash": "43973268aa23c7cf4b4cafe0e819fac9b2412fcc991a21988492c3271a4e3f9b"
   }
  }
 },
 "nbformat": 4,
 "nbformat_minor": 2
}
