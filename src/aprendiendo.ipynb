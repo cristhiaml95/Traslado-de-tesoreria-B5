{
 "cells": [
  {
   "cell_type": "code",
   "execution_count": null,
   "metadata": {},
   "outputs": [],
   "source": [
    "def fecha_a_dia(fecha):\n",
    "    import datetime\n",
    "    dias_de_la_semana = [\"Lunes\",\"Martes\",\"Miercoles\",\"Jueves\",\"Viernes\",\"Sabado\",\"Domingo\"]\n",
    "    fecha_split = fecha.split(\".\")\n",
    "    fecha_formateada = datetime.date(int(fecha_split[2]), int(fecha_split[1]), int(fecha_split[0]))\n",
    "    dia = dias_de_la_semana[fecha_formateada.weekday()]\n",
    "    return dia\n",
    "\n",
    "print(fecha_a_dia('18.08.2022'))"
   ]
  },
  {
   "cell_type": "code",
   "execution_count": null,
   "metadata": {},
   "outputs": [],
   "source": [
    "import pandas as pd\n",
    "\n",
    "l = [1,2,3,4,5,6,7,8,9,10]\n",
    "l2 = ['a','b','c','d','e','f','g','h','i','j']\n",
    "l3 = []\n",
    "l3.append(l)\n",
    "l3.append(l2)\n",
    "\n",
    "df = pd.DataFrame(l3, columns = ['a','b','c','d','e','f','g','h','i','j'])\n",
    "print(df)"
   ]
  },
  {
   "cell_type": "code",
   "execution_count": null,
   "metadata": {},
   "outputs": [],
   "source": [
    "from usefulObjets import sapInterfaceJob\n",
    "\n",
    "preApprovedParametersList = []\n",
    "parametersList2 = []\n",
    "\n",
    "l = []\n",
    "l1 = ['23.12.2022', '22.12.2022', '21.12.2022', '20.12.2022', '19.12.2022', '18.12.2022', '17.12.2022', '16.12.2022', '15.12.2022', '14.12.2022', '13.12.2022', '12.12.2022', '11.12.2022', '10.12.2022', '09.12.2022', '08.12.2022', '07.12.2022', '06.12.2022', '05.12.2022', '04.12.2022', '03.12.2022', '02.12.2022', '01.12.2022']\n",
    "l2 = ['1', '2', '3', '4-', '5', '6-', '7', '8', '9-', '10', '11', '12', '13', '14-', '15', '16', '17', '18', '19', '20', '21-', '22', '23']\n",
    "parametersList2.append(l)\n",
    "parametersList2.append(l)\n",
    "parametersList2.append(l1)\n",
    "parametersList2.append(l)\n",
    "parametersList2.append(l2)\n",
    "\n",
    "l3 = ['23.12.2022', '15.12.2022', '08.12.2022', '01.12.2022']\n",
    "l4 = ['1-', '9-', '17-', '23-']\n",
    "l5 = ['11111111111 BELZA GUTIERREZ CONDORI', '11111111111 JOSE LUIS ALEJANDRO RODRIGUEZ', '11111111111 NELVI JUANITA ROMERO', '11111111111 holis']\n",
    "preApprovedParametersList.append(l)\n",
    "preApprovedParametersList.append(l)\n",
    "preApprovedParametersList.append(l3)\n",
    "preApprovedParametersList.append(l)\n",
    "preApprovedParametersList.append(l4)\n",
    "preApprovedParametersList.append(l5)\n",
    "\n",
    "x = sapInterfaceJob()\n",
    "x.testingAccounts(preApprovedParametersList, parametersList2)\n",
    "\n"
   ]
  },
  {
   "cell_type": "code",
   "execution_count": null,
   "metadata": {},
   "outputs": [],
   "source": [
    "from usefulFunctions import ndocTOxlsx, currentPathParentFolder\n",
    "print(currentPathParentFolder)\n",
    "ndocTOxlsx('CCAJ-LP08/298/22', '13161561565', 'AG. ACHUMANI', 'MIGRACIONES SGV DICIEMBRE 2022 28.12.2022', r'C:\\Users\\crist\\OneDrive - UNIVERSIDAD NACIONAL DE INGENIERIA\\Venado\\Cris\\Bot5\\Cuentas recaudadoras\\logs.txt')"
   ]
  },
  {
   "cell_type": "code",
   "execution_count": 4,
   "metadata": {},
   "outputs": [
    {
     "name": "stdout",
     "output_type": "stream",
     "text": [
      "(15, 21)\n",
      "oy ?\n"
     ]
    }
   ],
   "source": [
    "import re\n",
    "l = 'hola, cómo has estado hoy ?'\n",
    "x = re.search('estado', l).span()\n",
    "y = l[-4:]\n",
    "print(x)\n",
    "print(y)"
   ]
  },
  {
   "cell_type": "code",
   "execution_count": 2,
   "metadata": {},
   "outputs": [
    {
     "name": "stdout",
     "output_type": "stream",
     "text": [
      "TRASL A BANCO X\n"
     ]
    }
   ],
   "source": [
    "l = 'TRASLADO A BANCO X'\n",
    "l = l.replace('TRASLADO', 'TRASL')\n",
    "print(l)"
   ]
  },
  {
   "cell_type": "code",
   "execution_count": 6,
   "metadata": {},
   "outputs": [
    {
     "name": "stdout",
     "output_type": "stream",
     "text": [
      "25\n",
      "<class 'int'>\n"
     ]
    }
   ],
   "source": [
    "x = min([25, 43])\n",
    "print(x)\n",
    "print(type(x))"
   ]
  },
  {
   "cell_type": "code",
   "execution_count": 9,
   "metadata": {},
   "outputs": [
    {
     "name": "stdout",
     "output_type": "stream",
     "text": [
      "37\n",
      "37\n",
      "30\n"
     ]
    }
   ],
   "source": [
    "l = 'Elija correctamente lo desea migrar: '\n",
    "l1 = '        Flujo de migracion:          '\n",
    "l2 = '¿Realizó la validación manual?'\n",
    "print(len(l))\n",
    "print(len(l1))\n",
    "print(len(l2))"
   ]
  },
  {
   "cell_type": "code",
   "execution_count": 2,
   "metadata": {},
   "outputs": [
    {
     "name": "stdout",
     "output_type": "stream",
     "text": [
      "['hola', 'heble']\n"
     ]
    }
   ],
   "source": [
    "l = ['hola', 'heble']\n",
    "l = l[:40]\n",
    "print(l)"
   ]
  },
  {
   "cell_type": "code",
   "execution_count": 13,
   "metadata": {},
   "outputs": [
    {
     "name": "stdout",
     "output_type": "stream",
     "text": [
      "['jaja', 'hola']\n",
      "<class 'set'>\n"
     ]
    }
   ],
   "source": [
    "l1 = ['hola', 'heble', 'jaja', 'alo']\n",
    "l2 = ['jaja', 'hebla', 'hola', 'ala']\n",
    "l3 = list(set(l1).intersection(l2))\n",
    "print(l3)\n",
    "y = {1, 2}\n",
    "print(type(y))"
   ]
  },
  {
   "cell_type": "code",
   "execution_count": 2,
   "metadata": {},
   "outputs": [
    {
     "name": "stdout",
     "output_type": "stream",
     "text": [
      "False\n"
     ]
    }
   ],
   "source": [
    "l = [[], []]\n",
    "print(bool([]))"
   ]
  },
  {
   "cell_type": "code",
   "execution_count": 3,
   "metadata": {},
   "outputs": [
    {
     "name": "stdout",
     "output_type": "stream",
     "text": [
      "[101052002, 101044002, 101044012, 101044022, 101044032, 101044042, 101044052, 101044062, 101044072, 101044082, 101051002, 101041032, 101041022, 101041012, 101041002, 101043002, 101042022, 101051012, 101041042, 101041052, 101041082, 101043042, 101042012, 101045012]\n"
     ]
    }
   ],
   "source": [
    "from openpyxl import load_workbook\n",
    "\n",
    "l = []\n",
    "wb = load_workbook(r'C:\\Users\\crist\\OneDrive\\Escritorio\\cuentas.xlsx')\n",
    "ws = wb.active\n",
    "for i in range (2, 26):\n",
    "    l.append(ws.cell(row = i, column = 3).value)\n",
    "\n",
    "print(l)\n",
    "\n",
    "l2 = list(set(l))\n",
    "# print(l2)\n",
    "\n"
   ]
  },
  {
   "cell_type": "code",
   "execution_count": 7,
   "metadata": {},
   "outputs": [
    {
     "name": "stdout",
     "output_type": "stream",
     "text": [
      "[101044032, 101044042, 101044012, 101044082, 101044052, 101044022, 101044062]\n",
      "[101044102, 101041002, 101041012, 101041082, 101044092]\n",
      "[101044072, 101044002]\n"
     ]
    }
   ],
   "source": [
    "l = [101044002, 101044012, 101044022, 101044032, 101044042, 101044052, 101044062, 101044072, 101044082]\n",
    "l2 = [101044032, 101044102, 101041002, 101044042, 101044012, 101044082, 101041012, 101044052, 101044022, 101041082, 101044092, 101044062]\n",
    "l3 = list(set(l).intersection(l2))\n",
    "l4 = list(set(l2)-set(l))\n",
    "l5 = list(set(l)-set(l2))\n",
    "\n",
    "\n",
    "print(l3)\n",
    "print(l4)\n",
    "print(l5)\n",
    "101044012\n",
    "\n",
    "[101052002;101044002;101044012;101044022;101044032;101044042;101044052;101044062;101044072;101044082;101051002;101041032;101041022;101041012;101041002;101043002;101042022;101051012;101041042;101041052;101041082;101043042;101042012;101045012]\n"
   ]
  },
  {
   "cell_type": "code",
   "execution_count": null,
   "metadata": {},
   "outputs": [],
   "source": []
  }
 ],
 "metadata": {
  "kernelspec": {
   "display_name": "Python 3.10.8 64-bit",
   "language": "python",
   "name": "python3"
  },
  "language_info": {
   "codemirror_mode": {
    "name": "ipython",
    "version": 3
   },
   "file_extension": ".py",
   "mimetype": "text/x-python",
   "name": "python",
   "nbconvert_exporter": "python",
   "pygments_lexer": "ipython3",
   "version": "3.10.8"
  },
  "orig_nbformat": 4,
  "vscode": {
   "interpreter": {
    "hash": "43973268aa23c7cf4b4cafe0e819fac9b2412fcc991a21988492c3271a4e3f9b"
   }
  }
 },
 "nbformat": 4,
 "nbformat_minor": 2
}
