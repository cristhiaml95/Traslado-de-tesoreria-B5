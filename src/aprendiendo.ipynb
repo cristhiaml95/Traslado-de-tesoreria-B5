{
 "cells": [
  {
   "cell_type": "code",
   "execution_count": null,
   "metadata": {},
   "outputs": [],
   "source": [
    "def fecha_a_dia(fecha):\n",
    "    import datetime\n",
    "    dias_de_la_semana = [\"Lunes\",\"Martes\",\"Miercoles\",\"Jueves\",\"Viernes\",\"Sabado\",\"Domingo\"]\n",
    "    fecha_split = fecha.split(\".\")\n",
    "    fecha_formateada = datetime.date(int(fecha_split[2]), int(fecha_split[1]), int(fecha_split[0]))\n",
    "    dia = dias_de_la_semana[fecha_formateada.weekday()]\n",
    "    return dia\n",
    "\n",
    "print(fecha_a_dia('18.08.2022'))"
   ]
  },
  {
   "cell_type": "code",
   "execution_count": null,
   "metadata": {},
   "outputs": [],
   "source": [
    "import pandas as pd\n",
    "\n",
    "l = [1,2,3,4,5,6,7,8,9,10]\n",
    "l2 = ['a','b','c','d','e','f','g','h','i','j']\n",
    "l3 = []\n",
    "l3.append(l)\n",
    "l3.append(l2)\n",
    "\n",
    "df = pd.DataFrame(l3, columns = ['a','b','c','d','e','f','g','h','i','j'])\n",
    "print(df)"
   ]
  },
  {
   "cell_type": "code",
   "execution_count": null,
   "metadata": {},
   "outputs": [],
   "source": [
    "from usefulObjets import sapInterfaceJob\n",
    "\n",
    "preApprovedParametersList = []\n",
    "parametersList2 = []\n",
    "\n",
    "l = []\n",
    "l1 = ['23.12.2022', '22.12.2022', '21.12.2022', '20.12.2022', '19.12.2022', '18.12.2022', '17.12.2022', '16.12.2022', '15.12.2022', '14.12.2022', '13.12.2022', '12.12.2022', '11.12.2022', '10.12.2022', '09.12.2022', '08.12.2022', '07.12.2022', '06.12.2022', '05.12.2022', '04.12.2022', '03.12.2022', '02.12.2022', '01.12.2022']\n",
    "l2 = ['1', '2', '3', '4-', '5', '6-', '7', '8', '9-', '10', '11', '12', '13', '14-', '15', '16', '17', '18', '19', '20', '21-', '22', '23']\n",
    "parametersList2.append(l)\n",
    "parametersList2.append(l)\n",
    "parametersList2.append(l1)\n",
    "parametersList2.append(l)\n",
    "parametersList2.append(l2)\n",
    "\n",
    "l3 = ['23.12.2022', '15.12.2022', '08.12.2022', '01.12.2022']\n",
    "l4 = ['1-', '9-', '17-', '23-']\n",
    "l5 = ['11111111111 BELZA GUTIERREZ CONDORI', '11111111111 JOSE LUIS ALEJANDRO RODRIGUEZ', '11111111111 NELVI JUANITA ROMERO', '11111111111 holis']\n",
    "preApprovedParametersList.append(l)\n",
    "preApprovedParametersList.append(l)\n",
    "preApprovedParametersList.append(l3)\n",
    "preApprovedParametersList.append(l)\n",
    "preApprovedParametersList.append(l4)\n",
    "preApprovedParametersList.append(l5)\n",
    "\n",
    "x = sapInterfaceJob()\n",
    "x.testingAccounts(preApprovedParametersList, parametersList2)\n",
    "\n"
   ]
  },
  {
   "cell_type": "code",
   "execution_count": 3,
   "metadata": {},
   "outputs": [
    {
     "name": "stdout",
     "output_type": "stream",
     "text": [
      "23\n"
     ]
    }
   ],
   "source": [
    "l = ['z', 'z', 'z', 'z', 'z', 'z', 'z', 'z', 'z', 'z', 'z', 'z', 'z', 'z', 'z', 'z', 'z', 'z', 'z', 'z', 'z', 'z', 'z']\n",
    "print(len(l))"
   ]
  },
  {
   "cell_type": "code",
   "execution_count": 10,
   "metadata": {},
   "outputs": [
    {
     "name": "stdout",
     "output_type": "stream",
     "text": [
      "PARADA/ROJASJUANGILBERTO-\n",
      "PARADA ROJAS JUAN GILBERTO\n",
      "['/', '-']\n"
     ]
    }
   ],
   "source": [
    "import re\n",
    "\n",
    "\n",
    "l = '9811-237828 PARADA /ROJAS JUAN GILBERTO-'\n",
    "\n",
    "l = l[12:]\n",
    "l2 = l.replace(' ', '')\n",
    "x = re.findall(r'[\\W]', l2)\n",
    "\n",
    "for i in x:\n",
    "    l = l.replace(i, '')\n",
    "print(l2)\n",
    "print(l)\n",
    "print(x)\n"
   ]
  },
  {
   "cell_type": "code",
   "execution_count": 13,
   "metadata": {},
   "outputs": [
    {
     "name": "stdout",
     "output_type": "stream",
     "text": [
      "GENARO VALVERDE RIBERA\n",
      "['04597352SC ']\n"
     ]
    }
   ],
   "source": [
    "import re\n",
    "\n",
    "l = '04597352SC GENARO VALVERDE RIBERA'\n",
    "x = re.findall(r'\\d+-*\\d+\\w*\\s', l)\n",
    "\n",
    "for i in x:\n",
    "    l = l.replace(i, '')\n",
    "print(l)\n",
    "print(x)"
   ]
  },
  {
   "cell_type": "code",
   "execution_count": null,
   "metadata": {},
   "outputs": [],
   "source": []
  }
 ],
 "metadata": {
  "kernelspec": {
   "display_name": "Python 3.10.8 64-bit",
   "language": "python",
   "name": "python3"
  },
  "language_info": {
   "codemirror_mode": {
    "name": "ipython",
    "version": 3
   },
   "file_extension": ".py",
   "mimetype": "text/x-python",
   "name": "python",
   "nbconvert_exporter": "python",
   "pygments_lexer": "ipython3",
   "version": "3.10.8"
  },
  "orig_nbformat": 4,
  "vscode": {
   "interpreter": {
    "hash": "43973268aa23c7cf4b4cafe0e819fac9b2412fcc991a21988492c3271a4e3f9b"
   }
  }
 },
 "nbformat": 4,
 "nbformat_minor": 2
}
